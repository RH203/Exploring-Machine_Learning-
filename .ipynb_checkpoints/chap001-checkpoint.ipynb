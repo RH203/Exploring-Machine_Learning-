{
 "cells": [
  {
   "cell_type": "markdown",
   "id": "f567bddf-fc70-4e04-8814-7cbe45c1fd10",
   "metadata": {},
   "source": [
    "**DATA CLEANING**\n",
    "\n",
    "---\n",
    "\n",
    "\r\n",
    "Data cleaning merupakan tahap penting dalam proses analisis data yang bertujuan untuk meningkatkan kualitas data. Kualitas data yang baik sangat penting karena berpengaruh terhadap produktivitas kerja secara keseluruhan. Proses data cleaning melibatkan identifikasi, koreksi, dan/atau penghapusan data yang tidak akurat, tidak lengkap, atau tidak relevan dari kumpulan data. Tujuannya adalah untuk menghasilkan dataset yang bersih, konsisten, dan berkualitas.\r\n",
    "\r\n",
    "Data yang tidak akurat atau tidak berkualitas dapat memiliki dampak negatif pada performa model analisis data, seperti model machine learning. Konsep \"Garbage In - Garbage Out\" menyoroti bahwa jika input data yang dimasukkan ke dalam proses analisis buruk, maka hasil analisisnya juga akan buruk. Oleh karena itu, memastikan data yang digunakan dalam analisis adalah akurat, lengkap, dan relevan sangat penting untuk mendapatkan hasil yang dapat diandalkan dan akurat dalam pengambilan keputusan.\r\n",
    "\r\n",
    "Dengan melakukan proses data cleaning dengan baik, organisasi atau individu dapat meningkatkan kepercayaan dalam hasil analisis data mereka, mengurangi risiko kesalahan interpretasi, dan meningkatkan efisiensi dalam pengambilan keputusan. Sebagai hasilnya, data yang berkualitas dapat menjadi aset berharga dalam mendukung pengembangan strategi bisnis, pengidentifikasi tren, dan pengambilan keputusan yang c\n",
    "\n",
    "**Berikut hal umum yang harus diperhatikan dalam data cleaning**\n",
    "- **Konsistensi format**: Contohnya dalam penulisan tanggal 10-Okt-2020 versus 10/10/20. Format jam yang berbeda seperti 17.10 versus 5.10 pm.\n",
    "- **Skala data**: Jika skala data 1 sampai 100 maka pastikan data tidak lebih dari 100 dan untuk data numerik bertipe positif pastikan tidak ada data yang negatif\n",
    "- **Missing value**: Missing value terjadi ketika data dari sebuah record tidak lengkap. Missing value sangat mempengaruhi performa model machine learning. Ada 2 (dua) opsi untuk mengatasi missing value, yaitu menghilangkan data missing value atau mengganti nilai yang hilang dengan nilai lain, seperti rata-rata dari kolom tersebut (mean) atau nilai yang paling sering muncul (modus), atau nilai tengah (median).\n",
    "- **Skewness distribution**: Kondisi skewness muncul ketika ada data yang tidak seimbang, misal data positive dan negative memiliki perbedaan data yang tidak seimbang (0 (positive) banding 100 (negative)).\n",
    "\n",
    "**DATA PROCESSING**\n",
    "\n",
    "---\n",
    "\n",
    "Setelah data diambil dari sumbernya, langkah selanjutnya dalam proses machine learning adalah memasukkannya ke dalam suatu lingkungan atau environment yang sesuai untuk pengolahan. Data tersebut kemudian diproses agar dapat diolah oleh model machine learning. Proses ini mirip dengan mengajari seorang anak kecil, di mana kita memberikan contoh dan informasi yang diperlukan untuk memahami konsep tertentu.\r\n",
    "\r\n",
    "Namun, komputer tidak seintuitif manusia sehingga perlu dilakukan persiapan data dengan melakukan data processing agar dapat dimengerti oleh komputer. Salah satu library yang sangat populer dan wajib dikuasai dalam pengolahan data untuk machine learning adalah Pandas Library.\r\n",
    "\r\n",
    "Pandas Library merupakan salah satu library Python yang kuat dan fleksibel untuk manipulasi dan analisis data. Dengan Pandas, Anda dapat dengan mudah membaca data dari berbagai sumber, melakukan operasi pengolahan data seperti penghapusan data yang tidak relevan, penggabungan data, pemfilteran data, dan transformasi data. Selain itu, Pandas juga menyediakan struktur data yang kuat seperti DataFrame yang memungkinkan Anda untuk menyimpan dan mengelola data dalam bentuk yang mudah diakses dan dimanipulngua\n",
    "e\n",
    "rdas.\n"
   ]
  },
  {
   "cell_type": "markdown",
   "id": "f3d2d77b-b78e-4d94-8d6c-fa800db58722",
   "metadata": {},
   "source": [
    "# Latihan Konversi Pandas Dataframe\n",
    "Goals: Learning menggunakan pandas libraryt."
   ]
  },
  {
   "cell_type": "code",
   "execution_count": 1,
   "id": "b6ee4d07-bfb8-4863-a8ea-bb3027fc3dc3",
   "metadata": {},
   "outputs": [
    {
     "data": {
      "text/plain": [
       "['anscombe.json',\n",
       " 'california_housing_test.csv',\n",
       " 'california_housing_train.csv',\n",
       " 'mnist_test.csv',\n",
       " 'mnist_train_small.csv']"
      ]
     },
     "execution_count": 1,
     "metadata": {},
     "output_type": "execute_result"
    }
   ],
   "source": [
    "import os\n",
    "os.listdir(\"sample\")"
   ]
  },
  {
   "cell_type": "code",
   "execution_count": 2,
   "id": "1af016b1-84bc-4b1b-85c4-452e39ce964c",
   "metadata": {},
   "outputs": [],
   "source": [
    "import pandas as pd"
   ]
  },
  {
   "cell_type": "code",
   "execution_count": 3,
   "id": "27a5fa36-82f2-4d6c-80d4-3b408edaac3a",
   "metadata": {},
   "outputs": [
    {
     "data": {
      "text/html": [
       "<div>\n",
       "<style scoped>\n",
       "    .dataframe tbody tr th:only-of-type {\n",
       "        vertical-align: middle;\n",
       "    }\n",
       "\n",
       "    .dataframe tbody tr th {\n",
       "        vertical-align: top;\n",
       "    }\n",
       "\n",
       "    .dataframe thead th {\n",
       "        text-align: right;\n",
       "    }\n",
       "</style>\n",
       "<table border=\"1\" class=\"dataframe\">\n",
       "  <thead>\n",
       "    <tr style=\"text-align: right;\">\n",
       "      <th></th>\n",
       "      <th>7</th>\n",
       "      <th>0</th>\n",
       "      <th>0.1</th>\n",
       "      <th>0.2</th>\n",
       "      <th>0.3</th>\n",
       "      <th>0.4</th>\n",
       "      <th>0.5</th>\n",
       "      <th>0.6</th>\n",
       "      <th>0.7</th>\n",
       "      <th>0.8</th>\n",
       "      <th>...</th>\n",
       "      <th>0.658</th>\n",
       "      <th>0.659</th>\n",
       "      <th>0.660</th>\n",
       "      <th>0.661</th>\n",
       "      <th>0.662</th>\n",
       "      <th>0.663</th>\n",
       "      <th>0.664</th>\n",
       "      <th>0.665</th>\n",
       "      <th>0.666</th>\n",
       "      <th>0.667</th>\n",
       "    </tr>\n",
       "  </thead>\n",
       "  <tbody>\n",
       "    <tr>\n",
       "      <th>0</th>\n",
       "      <td>2</td>\n",
       "      <td>0</td>\n",
       "      <td>0</td>\n",
       "      <td>0</td>\n",
       "      <td>0</td>\n",
       "      <td>0</td>\n",
       "      <td>0</td>\n",
       "      <td>0</td>\n",
       "      <td>0</td>\n",
       "      <td>0</td>\n",
       "      <td>...</td>\n",
       "      <td>0</td>\n",
       "      <td>0</td>\n",
       "      <td>0</td>\n",
       "      <td>0</td>\n",
       "      <td>0</td>\n",
       "      <td>0</td>\n",
       "      <td>0</td>\n",
       "      <td>0</td>\n",
       "      <td>0</td>\n",
       "      <td>0</td>\n",
       "    </tr>\n",
       "    <tr>\n",
       "      <th>1</th>\n",
       "      <td>1</td>\n",
       "      <td>0</td>\n",
       "      <td>0</td>\n",
       "      <td>0</td>\n",
       "      <td>0</td>\n",
       "      <td>0</td>\n",
       "      <td>0</td>\n",
       "      <td>0</td>\n",
       "      <td>0</td>\n",
       "      <td>0</td>\n",
       "      <td>...</td>\n",
       "      <td>0</td>\n",
       "      <td>0</td>\n",
       "      <td>0</td>\n",
       "      <td>0</td>\n",
       "      <td>0</td>\n",
       "      <td>0</td>\n",
       "      <td>0</td>\n",
       "      <td>0</td>\n",
       "      <td>0</td>\n",
       "      <td>0</td>\n",
       "    </tr>\n",
       "    <tr>\n",
       "      <th>2</th>\n",
       "      <td>0</td>\n",
       "      <td>0</td>\n",
       "      <td>0</td>\n",
       "      <td>0</td>\n",
       "      <td>0</td>\n",
       "      <td>0</td>\n",
       "      <td>0</td>\n",
       "      <td>0</td>\n",
       "      <td>0</td>\n",
       "      <td>0</td>\n",
       "      <td>...</td>\n",
       "      <td>0</td>\n",
       "      <td>0</td>\n",
       "      <td>0</td>\n",
       "      <td>0</td>\n",
       "      <td>0</td>\n",
       "      <td>0</td>\n",
       "      <td>0</td>\n",
       "      <td>0</td>\n",
       "      <td>0</td>\n",
       "      <td>0</td>\n",
       "    </tr>\n",
       "    <tr>\n",
       "      <th>3</th>\n",
       "      <td>4</td>\n",
       "      <td>0</td>\n",
       "      <td>0</td>\n",
       "      <td>0</td>\n",
       "      <td>0</td>\n",
       "      <td>0</td>\n",
       "      <td>0</td>\n",
       "      <td>0</td>\n",
       "      <td>0</td>\n",
       "      <td>0</td>\n",
       "      <td>...</td>\n",
       "      <td>0</td>\n",
       "      <td>0</td>\n",
       "      <td>0</td>\n",
       "      <td>0</td>\n",
       "      <td>0</td>\n",
       "      <td>0</td>\n",
       "      <td>0</td>\n",
       "      <td>0</td>\n",
       "      <td>0</td>\n",
       "      <td>0</td>\n",
       "    </tr>\n",
       "    <tr>\n",
       "      <th>4</th>\n",
       "      <td>1</td>\n",
       "      <td>0</td>\n",
       "      <td>0</td>\n",
       "      <td>0</td>\n",
       "      <td>0</td>\n",
       "      <td>0</td>\n",
       "      <td>0</td>\n",
       "      <td>0</td>\n",
       "      <td>0</td>\n",
       "      <td>0</td>\n",
       "      <td>...</td>\n",
       "      <td>0</td>\n",
       "      <td>0</td>\n",
       "      <td>0</td>\n",
       "      <td>0</td>\n",
       "      <td>0</td>\n",
       "      <td>0</td>\n",
       "      <td>0</td>\n",
       "      <td>0</td>\n",
       "      <td>0</td>\n",
       "      <td>0</td>\n",
       "    </tr>\n",
       "  </tbody>\n",
       "</table>\n",
       "<p>5 rows × 785 columns</p>\n",
       "</div>"
      ],
      "text/plain": [
       "   7  0  0.1  0.2  0.3  0.4  0.5  0.6  0.7  0.8  ...  0.658  0.659  0.660  \\\n",
       "0  2  0    0    0    0    0    0    0    0    0  ...      0      0      0   \n",
       "1  1  0    0    0    0    0    0    0    0    0  ...      0      0      0   \n",
       "2  0  0    0    0    0    0    0    0    0    0  ...      0      0      0   \n",
       "3  4  0    0    0    0    0    0    0    0    0  ...      0      0      0   \n",
       "4  1  0    0    0    0    0    0    0    0    0  ...      0      0      0   \n",
       "\n",
       "   0.661  0.662  0.663  0.664  0.665  0.666  0.667  \n",
       "0      0      0      0      0      0      0      0  \n",
       "1      0      0      0      0      0      0      0  \n",
       "2      0      0      0      0      0      0      0  \n",
       "3      0      0      0      0      0      0      0  \n",
       "4      0      0      0      0      0      0      0  \n",
       "\n",
       "[5 rows x 785 columns]"
      ]
     },
     "execution_count": 3,
     "metadata": {},
     "output_type": "execute_result"
    }
   ],
   "source": [
    "df = pd.read_csv(\"sample/mnist_test.csv\")\n",
    "df.head()"
   ]
  },
  {
   "attachments": {
    "a964c649-9017-480a-a353-6da86821c5a2.png": {
     "image/png": "[encoded data removed]"
    },
    "aab37fdb-5282-4a1d-9a82-de6350d8f812.png": {
     "image/png": "[encoded data removed]"
    }
   },
   "cell_type": "markdown",
   "id": "f1ba0268-5cca-4c85-9a69-2d6b39879471",
   "metadata": {},
   "source": [
    "## Data Preparation dengan Teknik One-Hot-Encoding\n",
    "\n",
    "Setelah membersihkan dataset, terdapat beberapa tahap tambahan yang perlu dilakukan agar dataset benar-benar siap untuk diproses oleh model machine learning. Dataset umumnya terdiri dari dua jenis data: kategorik dan numerik.\r\n",
    "\r\n",
    "Data numerik terdiri dari bilangan integer atau float yang memiliki ukuran jelas dan dapat dibandingkan satu sama lain. Contohnya adalah ukuran panjang, suhu, nilai uang, dll. Data numerik dapat dioperasikan dengan metode statistik dan mudah dipahami oleh komputer.\r\n",
    "\r\n",
    "Sementara itu, data kategorik berupa kategori dan berjenis string, tidak dapat diukur atau didefinisikan dengan angka. Contoh data kategorik adalah jenis cuaca (cerah, berawan, hujan) atau jenis buah (apel, pisang, semangka). Model machine learning umumnya tidak dapat mengolah data kategorik, sehingga perlu dilakukan konversi data kategorik menjadi data numerik.\r\n",
    "\r\n",
    "Salah satu teknik yang umum digunakan untuk mengubah data kategorik menjadi data numerik adalah dengan menggunakan One Hot Encoding atau dummy variables. Teknik ini melibatkan pembuatan kolom baru untuk setiap kategori dalam data kategorik, di mana nilai setiap kolom baru adalah 1 jika observasi memiliki kategori tersebut, dan 0 jika tidak.\r\n",
    "\r\n",
    "One Hot Encoding memungkinkan model machine learning untuk memahami dan memproses data kategorik dengan efektif, sehingga memungkinkan penggunaan fitur-fitur kategorik dalam pembuatan model. Dengan melakukan konversi ini, dataset menjadi lebih siap untuk digunakan dalam proses pelatihan model machine learning.\n",
    "\n",
    "![image.png](attachment:aab37fdb-5282-4a1d-9a82-de6350d8f812.png)![image.png](attachment:a964c649-9017-480a-a353-6da86821c5a2.png)"
   ]
  },
  {
   "cell_type": "markdown",
   "id": "b9370dea-9f83-42a2-b544-ad2e0d8bc6ed",
   "metadata": {},
   "source": [
    "## Data Preparation dengan Normalization dan Standardization\n",
    "\n",
    "Selain konversi data kategorik menjadi numerik, ada beberapa teknik lain dalam data preparation. Antara lain membuang outlier, normalization, dan standardization."
   ]
  },
  {
   "cell_type": "markdown",
   "id": "8d62dbcb-47d3-4c79-9cca-9b9b222448c2",
   "metadata": {},
   "source": [
    "### Outlier removal\n",
    "\n",
    "Dalam statistika, outlier adalah nilai yang jauh berbeda dibandingkan dengan data lainnya dan dapat mengacaukan hasil analisa statistika. \n",
    "**Contoh:**\n",
    "![image.png](attachment:1e40f1d5-e47a-4670-a60e-bde063f809ef.png)\n",
    "Dapat dilihat dari contoh gambar ada satu sampel data yang jauh dibandingkan data lainnya, untuk mengatasi case ini dapat dilakukan mencari data yang jauh dan menghapusnya dari dataset."
   ]
  },
  {
   "cell_type": "markdown",
   "id": "d929f5f5-ee48-4eb3-aa1d-0712e57cc8b7",
   "metadata": {},
   "source": [
    "### Normalization\n",
    "\n",
    "Normalization adalah salah satu teknik yang digunakan dalam persiapan data untuk model machine learning. Tujuan utama dari normalisasi adalah untuk mengubah nilai-nilai dari suatu fitur ke dalam skala yang sama, sehingga memungkinkan model machine learning untuk bekerja dengan lebih baik.\r\n",
    "\r\n",
    "Normalisasi penting karena ketika fitur-fitur dalam dataset memiliki skala yang sangat berbeda, seperti contoh umur dan gaji, hal ini dapat menyebabkan bias pada model. Misalnya, jika fitur gaji memiliki nilai yang jauh lebih besar dari fitur umur, model cenderung memberikan lebih banyak bobot pada fitur gaji, bahkan jika fitur umur sebenarnya memiliki kontribusi yang lebih penting dalam memprediksi hasil.\r\n",
    "\r\n",
    "Salah satu contoh dari teknik normalisasi adalah min-max scaling, di mana nilai-nilai dipetakan ke dalam skala antara 0 dan 1. Teknik ini menjaga rentang nilai asli dari fitur tetapi mengubahnya menjadi skala yang seragam. SKLearn (scikit-learn) adalah salah satu library Python yang menyediakan berbagai metode normalisasi, termasuk min-max scaling, sehingga memudahkan untuk menerapkan normalisasi pada dataset Anda sebelum menggunakan model machine learning.\r\n",
    "\r\n",
    "Dengan menerapkan normalisasi, performa dan stabilitas model machine learning dapat ditingkatkan karena fitur-fitur dalam dataset diperlakukan secara seragam, meminimalkan bias yang disebabkan oleh perbedaan skala fitur. Ini memungkinkan model untuk membuat prediksi yang lebih akurat dan dapat diandalkan.\n"
   ]
  },
  {
   "cell_type": "code",
   "execution_count": 7,
   "id": "364cb4aa-82e4-4f57-8735-4aa0e8ccad8f",
   "metadata": {},
   "outputs": [],
   "source": [
    "#  contoh dari normalization adalah min-max scaling di mana nilai-nilai dipetakan ke dalam skala 0 sampai 1. SKLearn menyediakan library untuk normalization\n",
    "from sklearn.preprocessing import MinMaxScaler\n",
    "data = [[12000000, 33], [35000000, 45], [4000000, 23], [6500000, 26], [9000000, 29]]"
   ]
  },
  {
   "cell_type": "code",
   "execution_count": 9,
   "id": "d6e04b24-7360-4f61-9802-1b7e1300b175",
   "metadata": {},
   "outputs": [
    {
     "data": {
      "text/html": [
       "<style>#sk-container-id-2 {color: black;}#sk-container-id-2 pre{padding: 0;}#sk-container-id-2 div.sk-toggleable {background-color: white;}#sk-container-id-2 label.sk-toggleable__label {cursor: pointer;display: block;width: 100%;margin-bottom: 0;padding: 0.3em;box-sizing: border-box;text-align: center;}#sk-container-id-2 label.sk-toggleable__label-arrow:before {content: \"▸\";float: left;margin-right: 0.25em;color: #696969;}#sk-container-id-2 label.sk-toggleable__label-arrow:hover:before {color: black;}#sk-container-id-2 div.sk-estimator:hover label.sk-toggleable__label-arrow:before {color: black;}#sk-container-id-2 div.sk-toggleable__content {max-height: 0;max-width: 0;overflow: hidden;text-align: left;background-color: #f0f8ff;}#sk-container-id-2 div.sk-toggleable__content pre {margin: 0.2em;color: black;border-radius: 0.25em;background-color: #f0f8ff;}#sk-container-id-2 input.sk-toggleable__control:checked~div.sk-toggleable__content {max-height: 200px;max-width: 100%;overflow: auto;}#sk-container-id-2 input.sk-toggleable__control:checked~label.sk-toggleable__label-arrow:before {content: \"▾\";}#sk-container-id-2 div.sk-estimator input.sk-toggleable__control:checked~label.sk-toggleable__label {background-color: #d4ebff;}#sk-container-id-2 div.sk-label input.sk-toggleable__control:checked~label.sk-toggleable__label {background-color: #d4ebff;}#sk-container-id-2 input.sk-hidden--visually {border: 0;clip: rect(1px 1px 1px 1px);clip: rect(1px, 1px, 1px, 1px);height: 1px;margin: -1px;overflow: hidden;padding: 0;position: absolute;width: 1px;}#sk-container-id-2 div.sk-estimator {font-family: monospace;background-color: #f0f8ff;border: 1px dotted black;border-radius: 0.25em;box-sizing: border-box;margin-bottom: 0.5em;}#sk-container-id-2 div.sk-estimator:hover {background-color: #d4ebff;}#sk-container-id-2 div.sk-parallel-item::after {content: \"\";width: 100%;border-bottom: 1px solid gray;flex-grow: 1;}#sk-container-id-2 div.sk-label:hover label.sk-toggleable__label {background-color: #d4ebff;}#sk-container-id-2 div.sk-serial::before {content: \"\";position: absolute;border-left: 1px solid gray;box-sizing: border-box;top: 0;bottom: 0;left: 50%;z-index: 0;}#sk-container-id-2 div.sk-serial {display: flex;flex-direction: column;align-items: center;background-color: white;padding-right: 0.2em;padding-left: 0.2em;position: relative;}#sk-container-id-2 div.sk-item {position: relative;z-index: 1;}#sk-container-id-2 div.sk-parallel {display: flex;align-items: stretch;justify-content: center;background-color: white;position: relative;}#sk-container-id-2 div.sk-item::before, #sk-container-id-2 div.sk-parallel-item::before {content: \"\";position: absolute;border-left: 1px solid gray;box-sizing: border-box;top: 0;bottom: 0;left: 50%;z-index: -1;}#sk-container-id-2 div.sk-parallel-item {display: flex;flex-direction: column;z-index: 1;position: relative;background-color: white;}#sk-container-id-2 div.sk-parallel-item:first-child::after {align-self: flex-end;width: 50%;}#sk-container-id-2 div.sk-parallel-item:last-child::after {align-self: flex-start;width: 50%;}#sk-container-id-2 div.sk-parallel-item:only-child::after {width: 0;}#sk-container-id-2 div.sk-dashed-wrapped {border: 1px dashed gray;margin: 0 0.4em 0.5em 0.4em;box-sizing: border-box;padding-bottom: 0.4em;background-color: white;}#sk-container-id-2 div.sk-label label {font-family: monospace;font-weight: bold;display: inline-block;line-height: 1.2em;}#sk-container-id-2 div.sk-label-container {text-align: center;}#sk-container-id-2 div.sk-container {/* jupyter's `normalize.less` sets `[hidden] { display: none; }` but bootstrap.min.css set `[hidden] { display: none !important; }` so we also need the `!important` here to be able to override the default hidden behavior on the sphinx rendered scikit-learn.org. See: https://github.com/scikit-learn/scikit-learn/issues/21755 */display: inline-block !important;position: relative;}#sk-container-id-2 div.sk-text-repr-fallback {display: none;}</style><div id=\"sk-container-id-2\" class=\"sk-top-container\"><div class=\"sk-text-repr-fallback\"><pre>MinMaxScaler()</pre><b>In a Jupyter environment, please rerun this cell to show the HTML representation or trust the notebook. <br />On GitHub, the HTML representation is unable to render, please try loading this page with nbviewer.org.</b></div><div class=\"sk-container\" hidden><div class=\"sk-item\"><div class=\"sk-estimator sk-toggleable\"><input class=\"sk-toggleable__control sk-hidden--visually\" id=\"sk-estimator-id-2\" type=\"checkbox\" checked><label for=\"sk-estimator-id-2\" class=\"sk-toggleable__label sk-toggleable__label-arrow\">MinMaxScaler</label><div class=\"sk-toggleable__content\"><pre>MinMaxScaler()</pre></div></div></div></div></div>"
      ],
      "text/plain": [
       "MinMaxScaler()"
      ]
     },
     "execution_count": 9,
     "metadata": {},
     "output_type": "execute_result"
    }
   ],
   "source": [
    "# Membuat sebuah objek MinMaxScaler()\n",
    "scaler = MinMaxScaler()\n",
    "# Memanggil fungsi fit() dan mengisi argumen data seperti potongan kode di bawah\n",
    "# Pada fungsi fit() ini komputer baru menghitung saja, kita masih harus mengeluarkan outputnya seperti next line.\n",
    "scaler.fit(data)"
   ]
  },
  {
   "cell_type": "code",
   "execution_count": 10,
   "id": "589768d4-368d-49b6-b68b-53a8e4805f3c",
   "metadata": {},
   "outputs": [
    {
     "name": "stdout",
     "output_type": "stream",
     "text": [
      "[[0.25806452 0.45454545]\n",
      " [1.         1.        ]\n",
      " [0.         0.        ]\n",
      " [0.08064516 0.13636364]\n",
      " [0.16129032 0.27272727]]\n"
     ]
    }
   ],
   "source": [
    "print(scaler.transform(data))"
   ]
  },
  {
   "attachments": {
    "1e46159f-dfac-4f5d-98aa-400effbf332b.png": {
     "image/png": "[encoded data removed]"
    },
    "708ae788-ae86-44a7-9daf-ad281e510220.png": {
     "image/png": "[encoded data removed]"
    }
   },
   "cell_type": "markdown",
   "id": "de0a253c-5037-4986-a855-bd6fcfdd522b",
   "metadata": {},
   "source": [
    "### Standardization\n",
    "\n",
    "Standardization adalah proses konversi nilai-nilai dari suatu fitur sehingga nilai-nilai tersebut memiliki skala yang sama. Z score adalah metode paling populer untuk standardisasi di mana setiap nilai pada sebuah atribut numerik akan dikurangi dengan rata-rata dan dibagi dengan standar deviasi dari seluruh nilai pada sebuah kolom atribut.\r\n",
    "![image.png](attachment:1e46159f-dfac-4f5d-98aa-400effbf332b.png)![image.png](attachment:708ae788-ae86-44a7-9daf-ad281e510220.png)ng\r\n",
    "\r\n",
    "Fungsi standardisasi itu serupa dengan normalization. Keduanya berfungsi menyamakan skala nilai dari tiap atribut pada data. SKLearn menyediakan library untuk mengaplikasikan standard scaler pada data."
   ]
  },
  {
   "cell_type": "code",
   "execution_count": 11,
   "id": "cd1b636e-c385-49da-8ec0-c8b160a4a301",
   "metadata": {},
   "outputs": [],
   "source": [
    "from sklearn import preprocessing"
   ]
  },
  {
   "cell_type": "code",
   "execution_count": 12,
   "id": "4a3cedf1-271e-4f8b-941a-0bff1744cd46",
   "metadata": {},
   "outputs": [],
   "source": [
    "data = [[12000000, 33], [35000000, 45], [4000000, 23], [6500000, 26], [9000000, 29]]"
   ]
  },
  {
   "cell_type": "code",
   "execution_count": 13,
   "id": "5f0c75ee-a6e4-4def-a5b2-6ba5519f2605",
   "metadata": {},
   "outputs": [],
   "source": [
    "# buat object scaler dan panggil fungsi fit dari scaler pada data. \n",
    "# Fungsi fit memiliki fungsi untuk menghitung rata-rata dan deviasi standar dari setiap kolom atribut untuk kemudian dipakai pada fungsi transform.\n",
    "scaler = preprocessing.StandardScaler().fit(data)"
   ]
  },
  {
   "cell_type": "code",
   "execution_count": 16,
   "id": "c3ee4663-916e-4744-aa48-9aa6ce1fd6aa",
   "metadata": {},
   "outputs": [
    {
     "data": {
      "text/plain": [
       "array([[-0.11638732,  0.23521877],\n",
       "       [ 1.94277296,  1.80334389],\n",
       "       [-0.83261698, -1.07155217],\n",
       "       [-0.60879521, -0.67952089],\n",
       "       [-0.38497344, -0.28748961]])"
      ]
     },
     "execution_count": 16,
     "metadata": {},
     "output_type": "execute_result"
    }
   ],
   "source": [
    "# Terakhir panggil fungsi transform untuk mengaplikasikan standard scaler pada data. \n",
    "# Untuk melihat hasil dari standard scaler kita tinggal memanggil objek scaler yang telah kita buat sebelumnya. \n",
    "data = scaler.transform(data)\n",
    "data"
   ]
  },
  {
   "cell_type": "code",
   "execution_count": null,
   "id": "44f92369-a6f2-4e33-84b1-e0150fe1abc6",
   "metadata": {},
   "outputs": [],
   "source": []
  }
 ],
 "metadata": {
  "kernelspec": {
   "display_name": "Python 3 (ipykernel)",
   "language": "python",
   "name": "python3"
  },
  "language_info": {
   "codemirror_mode": {
    "name": "ipython",
    "version": 3
   },
   "file_extension": ".py",
   "mimetype": "text/x-python",
   "name": "python",
   "nbconvert_exporter": "python",
   "pygments_lexer": "ipython3",
   "version": "3.12.2"
  }
 },
 "nbformat": 4,
 "nbformat_minor": 5
}
