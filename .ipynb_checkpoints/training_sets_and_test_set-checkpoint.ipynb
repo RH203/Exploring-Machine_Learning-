{
 "cells": [
  {
   "cell_type": "markdown",
   "id": "b74479c0-c27d-4473-8cf4-d70744c6c4ed",
   "metadata": {},
   "source": [
    "# Training Set and Test Set\n",
    "Ketika proses data cleaning itu sudah dijalankan maka proses selanjutnya data siap ditrain kedalam Machine Learning. Untuk mengetahui apakah model Machine Learning dikatakan bagus apa tidak kita bisa dengan mengujinya pada sebuah case atau data baru yang belum dikenali oleh model. Kita bisa saja langsung mengujinya pada tahap produksi lalu memonitor kualitasnya, tetapi bisa saja model yang kita kembangkan tidak bekerja dengan baik. Hal tersebut mengakibatkan pelanggan dan klien kita komplain, cara ini juga menyebabkan bengkaknya biaya dan memakan sumber daya."
   ]
  },
  {
   "cell_type": "markdown",
   "id": "e2283560-4812-42db-b19c-6d022cbd4622",
   "metadata": {},
   "source": [
    "## Opsi terbaik\n",
    "Opsi terbaik untuk menghindari case problem diatas kita dapat membagi dataset menjadi 2 bagian data yaitu, train set dan test set. Dengan menggunakan opsi seperti ini kita membagi data train set untuk melakukan pelatihan dan test set untuk mengujinya pada data-data yang belum dikenali oleh model. Dengan begini kita bisa menguji model terhadap data testing dan melihat kesalahan yang dibuat dan memperbaikinya sebelum kita bawa ke tahap produksi.\n",
    "\n",
    "Step yang penting selanjutnya adalah memilih rasio antara train set dan test set, pada praktiknya pembagian data training dan data testing paling umum adalah 80:20, 70:30, dan 60:40. Apabila dataset sangat besar proporsi yang biasa digunakan 90:10 atau juga 99:1."
   ]
  },
  {
   "cell_type": "code",
   "execution_count": 2,
   "id": "964c3e3b-209c-4f84-bee7-0cd51a2a5097",
   "metadata": {},
   "outputs": [],
   "source": [
    "'''\n",
    "Fungsi train_test_split kita bisa membagi array X dan array Y kedalam 20% data testing\n",
    "(test_size=0.2). Sebelum proses pemisahan data fungsi train_test_split melakukan pengacakan terhadap\n",
    "data yang ada, hal ini membuat semua data tidak sama pada kelas tertentu.\n",
    "'''\n",
    "from sklearn.model_selection import train_test_split"
   ]
  },
  {
   "cell_type": "code",
   "execution_count": 4,
   "id": "21db8e26-6058-49a6-a703-26c6bd9ad92d",
   "metadata": {},
   "outputs": [],
   "source": [
    "X_data = range(10)\n",
    "y_data = range(10)"
   ]
  },
  {
   "cell_type": "code",
   "execution_count": 5,
   "id": "76e69b3c-7d7d-4596-be4d-9da0fd870ede",
   "metadata": {},
   "outputs": [
    {
     "name": "stdout",
     "output_type": "stream",
     "text": [
      "random_state ditentukan\n",
      "[8, 1, 5]\n",
      "[8, 1, 5]\n",
      "[8, 1, 5]\n"
     ]
    }
   ],
   "source": [
    "'''\n",
    "Parameter random_state menyediakan random seed yang tetap untuk internal pseudo-random generator yang\n",
    "digunakan pada proses shuffling. Umumya nilai yang biasa digunakan 0 atau 1, ada juga yang menggunakan 42.\n",
    "Dalam menentukan parameter random_state memiliki tujuan untuk memastikan bahwa hasil pembagian dataset\n",
    "konsisten dan memberikan data yang sama setiap kali model dijalankan. Jika tidak menentukan maka\n",
    "setiap pembagian model akan menghasilkan hasil tes berbeda dan membuat akurasi dari model Machine\n",
    "Learning menjadi berbeda.\n",
    "'''\n",
    "print(\"random_state ditentukan\")\n",
    "for i in range(3):\n",
    "    X_train, X_test, y_train, y_test = train_test_split(X_data, y_data, test_size = 0.3, random_state = 42)\n",
    "    print(y_test)"
   ]
  },
  {
   "cell_type": "code",
   "execution_count": 6,
   "id": "38261da1-ccb0-4f50-80e4-ecef7b7707d0",
   "metadata": {},
   "outputs": [
    {
     "name": "stdout",
     "output_type": "stream",
     "text": [
      "random_state tidak ditentukan\n",
      "[0, 7, 4]\n",
      "[2, 4, 0]\n",
      "[5, 9, 2]\n"
     ]
    }
   ],
   "source": [
    "print(\"random_state tidak ditentukan\")\n",
    "for i in range(3):\n",
    "    X_train, X_test, y_train, y_test = train_test_split(X_data, y_data, test_size = 0.3, random_state = None)\n",
    "    print(y_test)"
   ]
  },
  {
   "cell_type": "markdown",
   "id": "efddc52e-0d90-40b2-b7fe-540dd3d90479",
   "metadata": {},
   "source": [
    "# Cross Validation\n",
    "Teknik yang sering digunakan dalam evaluasi model ML adalah K-Fold Cross Validation atau Cross Validation. Cross validation adalah metode dimana setiap iterasi akan dipakai satu kali sebagai data uji dan sisanya akan digunakan sebagai data latih, dengan begitu kita akan memperoleh hasil evaluasi yang lebih akurat karena model dievaluasi dengan seluruh data."
   ]
  }
 ],
 "metadata": {
  "kernelspec": {
   "display_name": "Python 3 (ipykernel)",
   "language": "python",
   "name": "python3"
  },
  "language_info": {
   "codemirror_mode": {
    "name": "ipython",
    "version": 3
   },
   "file_extension": ".py",
   "mimetype": "text/x-python",
   "name": "python",
   "nbconvert_exporter": "python",
   "pygments_lexer": "ipython3",
   "version": "3.12.2"
  }
 },
 "nbformat": 4,
 "nbformat_minor": 5
}
