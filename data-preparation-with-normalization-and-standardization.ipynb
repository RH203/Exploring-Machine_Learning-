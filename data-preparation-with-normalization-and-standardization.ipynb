{
 "cells": [
  {
   "cell_type": "markdown",
   "id": "6a3bb7a4-c19e-469b-90a5-7ae29dd7a56e",
   "metadata": {},
   "source": [
    "# Data Preparation with Normalization and Standardization\n",
    "Dalam data preparation bukan hanya konversi data kategorik menjadi numerik, tetapi ada beberapa teknik lain dalam data preparation seperti **Outlier Removal**, **Normalization**, dan **Standardization**."
   ]
  },
  {
   "cell_type": "markdown",
   "id": "ece821cd-5796-4840-aa70-1f9570d74409",
   "metadata": {},
   "source": [
    "## Outlier Removal\n",
    "Dalam statistika outlier biasanya nilai yang jauh berbeda dari kumpulan nilai lainnya dan bisa saja mengacaukan hasil analisis. Munculnya outlier disebabkan oleh beberapa hal, seperti kesalahan dalam pengumpulan data atau nilai. Kita perlu mengidentifikasi dan memproses outlier karena hal ini bagian penting dalam persiapan data pada Machine Learning. Cara termudah untuk mengecek apakah terdapat outlier dalam data dapat dilakukan visualisasi."
   ]
  },
  {
   "cell_type": "markdown",
   "id": "a3630f24-84ae-47f0-a01e-99081be4adb5",
   "metadata": {},
   "source": [
    "## Normalization\n",
    "Tehnik kedua adalah normalisasi, dimana sebuah data diubah nilai-nilainya menjadi skala yang sama."
   ]
  },
  {
   "cell_type": "code",
   "execution_count": 1,
   "id": "17e00f8a-f8c3-4325-b8f7-d86141e67b87",
   "metadata": {},
   "outputs": [
    {
     "name": "stdout",
     "output_type": "stream",
     "text": [
      "  Nama      Gaji  Umur\n",
      "0    A  12000000    30\n",
      "1    B  35000000    50\n",
      "2    C   4000000    23\n",
      "3    D   6500000    24\n",
      "4    E   9000000    29\n"
     ]
    }
   ],
   "source": [
    "# Contoh data yang dapat dinormalisasi\n",
    "import pandas as pd\n",
    "\n",
    "# Data\n",
    "data = {\n",
    "    'Nama': ['A', 'B', 'C', 'D', 'E'],\n",
    "    'Gaji': [12000000, 35000000, 4000000, 6500000, 9000000],\n",
    "    'Umur': [30, 50, 23, 24, 29]\n",
    "}\n",
    "\n",
    "# Membuat dataframe dari data\n",
    "df = pd.DataFrame(data)\n",
    "\n",
    "# Menampilkan tabel\n",
    "print(df)"
   ]
  },
  {
   "cell_type": "markdown",
   "id": "136e7b5b-9ec7-4d28-8d9b-0595402d16a6",
   "metadata": {},
   "source": [
    "Bisa dilihat bahwa kolom umur memiliki skala 23 sampai 50 dan kolom gaji memiliki skala 4.000.000 sampai 35.000.000. Bisa dilihat gaji memiliki skala sekitar satu juta kali lebih besar dari umur. Mengartikan bahwa ada skala yang sangat jauh berbeda pada kedua kolom tersebut. Ketika kita membangun model regresi linear, gaji akan mempengaruhi prediksi dari model karena nilai yang jauh lebih besar daripada umur. Salah satu contoh dari Normalization adalah **MinMaxScalling** dimana nilai diubah ke skala 0 sampai 1 menggunakan library SKLearn."
   ]
  },
  {
   "cell_type": "code",
   "execution_count": 2,
   "id": "0a30df30-b729-4f64-a5e3-044a53c4641c",
   "metadata": {},
   "outputs": [],
   "source": [
    "from sklearn.preprocessing import MinMaxScaler"
   ]
  },
  {
   "cell_type": "code",
   "execution_count": 3,
   "id": "8094b342-7563-498c-ad64-7d5b5b0b3b28",
   "metadata": {},
   "outputs": [],
   "source": [
    "data = [\n",
    "    [12000000, 30], \n",
    "    [35000000, 45],\n",
    "    [4000000, 23],\n",
    "    [6500000, 26],\n",
    "    [9000000, 29],\n",
    "]"
   ]
  },
  {
   "cell_type": "code",
   "execution_count": 4,
   "id": "7e7bec61-4244-49df-9b77-22cda08de1a1",
   "metadata": {},
   "outputs": [
    {
     "data": {
      "text/html": [
       "<style>#sk-container-id-1 {color: black;}#sk-container-id-1 pre{padding: 0;}#sk-container-id-1 div.sk-toggleable {background-color: white;}#sk-container-id-1 label.sk-toggleable__label {cursor: pointer;display: block;width: 100%;margin-bottom: 0;padding: 0.3em;box-sizing: border-box;text-align: center;}#sk-container-id-1 label.sk-toggleable__label-arrow:before {content: \"▸\";float: left;margin-right: 0.25em;color: #696969;}#sk-container-id-1 label.sk-toggleable__label-arrow:hover:before {color: black;}#sk-container-id-1 div.sk-estimator:hover label.sk-toggleable__label-arrow:before {color: black;}#sk-container-id-1 div.sk-toggleable__content {max-height: 0;max-width: 0;overflow: hidden;text-align: left;background-color: #f0f8ff;}#sk-container-id-1 div.sk-toggleable__content pre {margin: 0.2em;color: black;border-radius: 0.25em;background-color: #f0f8ff;}#sk-container-id-1 input.sk-toggleable__control:checked~div.sk-toggleable__content {max-height: 200px;max-width: 100%;overflow: auto;}#sk-container-id-1 input.sk-toggleable__control:checked~label.sk-toggleable__label-arrow:before {content: \"▾\";}#sk-container-id-1 div.sk-estimator input.sk-toggleable__control:checked~label.sk-toggleable__label {background-color: #d4ebff;}#sk-container-id-1 div.sk-label input.sk-toggleable__control:checked~label.sk-toggleable__label {background-color: #d4ebff;}#sk-container-id-1 input.sk-hidden--visually {border: 0;clip: rect(1px 1px 1px 1px);clip: rect(1px, 1px, 1px, 1px);height: 1px;margin: -1px;overflow: hidden;padding: 0;position: absolute;width: 1px;}#sk-container-id-1 div.sk-estimator {font-family: monospace;background-color: #f0f8ff;border: 1px dotted black;border-radius: 0.25em;box-sizing: border-box;margin-bottom: 0.5em;}#sk-container-id-1 div.sk-estimator:hover {background-color: #d4ebff;}#sk-container-id-1 div.sk-parallel-item::after {content: \"\";width: 100%;border-bottom: 1px solid gray;flex-grow: 1;}#sk-container-id-1 div.sk-label:hover label.sk-toggleable__label {background-color: #d4ebff;}#sk-container-id-1 div.sk-serial::before {content: \"\";position: absolute;border-left: 1px solid gray;box-sizing: border-box;top: 0;bottom: 0;left: 50%;z-index: 0;}#sk-container-id-1 div.sk-serial {display: flex;flex-direction: column;align-items: center;background-color: white;padding-right: 0.2em;padding-left: 0.2em;position: relative;}#sk-container-id-1 div.sk-item {position: relative;z-index: 1;}#sk-container-id-1 div.sk-parallel {display: flex;align-items: stretch;justify-content: center;background-color: white;position: relative;}#sk-container-id-1 div.sk-item::before, #sk-container-id-1 div.sk-parallel-item::before {content: \"\";position: absolute;border-left: 1px solid gray;box-sizing: border-box;top: 0;bottom: 0;left: 50%;z-index: -1;}#sk-container-id-1 div.sk-parallel-item {display: flex;flex-direction: column;z-index: 1;position: relative;background-color: white;}#sk-container-id-1 div.sk-parallel-item:first-child::after {align-self: flex-end;width: 50%;}#sk-container-id-1 div.sk-parallel-item:last-child::after {align-self: flex-start;width: 50%;}#sk-container-id-1 div.sk-parallel-item:only-child::after {width: 0;}#sk-container-id-1 div.sk-dashed-wrapped {border: 1px dashed gray;margin: 0 0.4em 0.5em 0.4em;box-sizing: border-box;padding-bottom: 0.4em;background-color: white;}#sk-container-id-1 div.sk-label label {font-family: monospace;font-weight: bold;display: inline-block;line-height: 1.2em;}#sk-container-id-1 div.sk-label-container {text-align: center;}#sk-container-id-1 div.sk-container {/* jupyter's `normalize.less` sets `[hidden] { display: none; }` but bootstrap.min.css set `[hidden] { display: none !important; }` so we also need the `!important` here to be able to override the default hidden behavior on the sphinx rendered scikit-learn.org. See: https://github.com/scikit-learn/scikit-learn/issues/21755 */display: inline-block !important;position: relative;}#sk-container-id-1 div.sk-text-repr-fallback {display: none;}</style><div id=\"sk-container-id-1\" class=\"sk-top-container\"><div class=\"sk-text-repr-fallback\"><pre>MinMaxScaler()</pre><b>In a Jupyter environment, please rerun this cell to show the HTML representation or trust the notebook. <br />On GitHub, the HTML representation is unable to render, please try loading this page with nbviewer.org.</b></div><div class=\"sk-container\" hidden><div class=\"sk-item\"><div class=\"sk-estimator sk-toggleable\"><input class=\"sk-toggleable__control sk-hidden--visually\" id=\"sk-estimator-id-1\" type=\"checkbox\" checked><label for=\"sk-estimator-id-1\" class=\"sk-toggleable__label sk-toggleable__label-arrow\">MinMaxScaler</label><div class=\"sk-toggleable__content\"><pre>MinMaxScaler()</pre></div></div></div></div></div>"
      ],
      "text/plain": [
       "MinMaxScaler()"
      ]
     },
     "execution_count": 4,
     "metadata": {},
     "output_type": "execute_result"
    }
   ],
   "source": [
    "scaler = MinMaxScaler()\n",
    "scaler.fit(data)"
   ]
  },
  {
   "cell_type": "code",
   "execution_count": 5,
   "id": "4ba80cbd-83cb-49ac-8421-94b8af64595d",
   "metadata": {},
   "outputs": [
    {
     "data": {
      "text/plain": [
       "array([[0.25806452, 0.31818182],\n",
       "       [1.        , 1.        ],\n",
       "       [0.        , 0.        ],\n",
       "       [0.08064516, 0.13636364],\n",
       "       [0.16129032, 0.27272727]])"
      ]
     },
     "execution_count": 5,
     "metadata": {},
     "output_type": "execute_result"
    }
   ],
   "source": [
    "'''\n",
    "Pada fungsi fit diatas mesin baru menghitung nilai minimun dan maksimum pada \n",
    "setiap kolom dan belum melakukan operasi scaller pada data. Cara mengaplikasian scaler kedalam data\n",
    "dengan memanggil fungsi transform()\n",
    "'''\n",
    "scaler.transform(data)"
   ]
  },
  {
   "cell_type": "markdown",
   "id": "11b0e5c4-10c4-4c80-82e3-4923a31fa13f",
   "metadata": {},
   "source": [
    "# Standardization\n",
    "Sebuah proses dimana nilai-nilai dikonversi dari suatu fitur sehingga nilai-nilai tersebut memiliki skala yang sama adalah Standardization. Z score adalah metode yang sering digunakan untuk Standardization dimana setiap nilai pada atribut numerik akan dikurangi rata-rata dan dibagi dengan standar deviasi dari seluruh nilai pada sebuah kolom."
   ]
  },
  {
   "cell_type": "code",
   "execution_count": 6,
   "id": "a9e90ac0-7644-4718-b591-f124d932dfe0",
   "metadata": {},
   "outputs": [],
   "source": [
    "'''\n",
    "Fungsi Standardization serupa dengan normalization, kedua berfungsi menyamakan skala nilai dari tiap atribut pada data.\n",
    "Library SKLearn sudah menyediakan pengaplikasian Standardization.\n",
    "'''\n",
    "from sklearn import preprocessing"
   ]
  },
  {
   "cell_type": "code",
   "execution_count": 7,
   "id": "1640482d-6440-4219-b708-e333a520db63",
   "metadata": {},
   "outputs": [
    {
     "data": {
      "text/html": [
       "<style>#sk-container-id-2 {color: black;}#sk-container-id-2 pre{padding: 0;}#sk-container-id-2 div.sk-toggleable {background-color: white;}#sk-container-id-2 label.sk-toggleable__label {cursor: pointer;display: block;width: 100%;margin-bottom: 0;padding: 0.3em;box-sizing: border-box;text-align: center;}#sk-container-id-2 label.sk-toggleable__label-arrow:before {content: \"▸\";float: left;margin-right: 0.25em;color: #696969;}#sk-container-id-2 label.sk-toggleable__label-arrow:hover:before {color: black;}#sk-container-id-2 div.sk-estimator:hover label.sk-toggleable__label-arrow:before {color: black;}#sk-container-id-2 div.sk-toggleable__content {max-height: 0;max-width: 0;overflow: hidden;text-align: left;background-color: #f0f8ff;}#sk-container-id-2 div.sk-toggleable__content pre {margin: 0.2em;color: black;border-radius: 0.25em;background-color: #f0f8ff;}#sk-container-id-2 input.sk-toggleable__control:checked~div.sk-toggleable__content {max-height: 200px;max-width: 100%;overflow: auto;}#sk-container-id-2 input.sk-toggleable__control:checked~label.sk-toggleable__label-arrow:before {content: \"▾\";}#sk-container-id-2 div.sk-estimator input.sk-toggleable__control:checked~label.sk-toggleable__label {background-color: #d4ebff;}#sk-container-id-2 div.sk-label input.sk-toggleable__control:checked~label.sk-toggleable__label {background-color: #d4ebff;}#sk-container-id-2 input.sk-hidden--visually {border: 0;clip: rect(1px 1px 1px 1px);clip: rect(1px, 1px, 1px, 1px);height: 1px;margin: -1px;overflow: hidden;padding: 0;position: absolute;width: 1px;}#sk-container-id-2 div.sk-estimator {font-family: monospace;background-color: #f0f8ff;border: 1px dotted black;border-radius: 0.25em;box-sizing: border-box;margin-bottom: 0.5em;}#sk-container-id-2 div.sk-estimator:hover {background-color: #d4ebff;}#sk-container-id-2 div.sk-parallel-item::after {content: \"\";width: 100%;border-bottom: 1px solid gray;flex-grow: 1;}#sk-container-id-2 div.sk-label:hover label.sk-toggleable__label {background-color: #d4ebff;}#sk-container-id-2 div.sk-serial::before {content: \"\";position: absolute;border-left: 1px solid gray;box-sizing: border-box;top: 0;bottom: 0;left: 50%;z-index: 0;}#sk-container-id-2 div.sk-serial {display: flex;flex-direction: column;align-items: center;background-color: white;padding-right: 0.2em;padding-left: 0.2em;position: relative;}#sk-container-id-2 div.sk-item {position: relative;z-index: 1;}#sk-container-id-2 div.sk-parallel {display: flex;align-items: stretch;justify-content: center;background-color: white;position: relative;}#sk-container-id-2 div.sk-item::before, #sk-container-id-2 div.sk-parallel-item::before {content: \"\";position: absolute;border-left: 1px solid gray;box-sizing: border-box;top: 0;bottom: 0;left: 50%;z-index: -1;}#sk-container-id-2 div.sk-parallel-item {display: flex;flex-direction: column;z-index: 1;position: relative;background-color: white;}#sk-container-id-2 div.sk-parallel-item:first-child::after {align-self: flex-end;width: 50%;}#sk-container-id-2 div.sk-parallel-item:last-child::after {align-self: flex-start;width: 50%;}#sk-container-id-2 div.sk-parallel-item:only-child::after {width: 0;}#sk-container-id-2 div.sk-dashed-wrapped {border: 1px dashed gray;margin: 0 0.4em 0.5em 0.4em;box-sizing: border-box;padding-bottom: 0.4em;background-color: white;}#sk-container-id-2 div.sk-label label {font-family: monospace;font-weight: bold;display: inline-block;line-height: 1.2em;}#sk-container-id-2 div.sk-label-container {text-align: center;}#sk-container-id-2 div.sk-container {/* jupyter's `normalize.less` sets `[hidden] { display: none; }` but bootstrap.min.css set `[hidden] { display: none !important; }` so we also need the `!important` here to be able to override the default hidden behavior on the sphinx rendered scikit-learn.org. See: https://github.com/scikit-learn/scikit-learn/issues/21755 */display: inline-block !important;position: relative;}#sk-container-id-2 div.sk-text-repr-fallback {display: none;}</style><div id=\"sk-container-id-2\" class=\"sk-top-container\"><div class=\"sk-text-repr-fallback\"><pre>StandardScaler()</pre><b>In a Jupyter environment, please rerun this cell to show the HTML representation or trust the notebook. <br />On GitHub, the HTML representation is unable to render, please try loading this page with nbviewer.org.</b></div><div class=\"sk-container\" hidden><div class=\"sk-item\"><div class=\"sk-estimator sk-toggleable\"><input class=\"sk-toggleable__control sk-hidden--visually\" id=\"sk-estimator-id-2\" type=\"checkbox\" checked><label for=\"sk-estimator-id-2\" class=\"sk-toggleable__label sk-toggleable__label-arrow\">StandardScaler</label><div class=\"sk-toggleable__content\"><pre>StandardScaler()</pre></div></div></div></div></div>"
      ],
      "text/plain": [
       "StandardScaler()"
      ]
     },
     "execution_count": 7,
     "metadata": {},
     "output_type": "execute_result"
    }
   ],
   "source": [
    "scaler_standardization = preprocessing.StandardScaler().fit(data)\n",
    "scaler_standardization"
   ]
  },
  {
   "cell_type": "code",
   "execution_count": 9,
   "id": "682f6415-f0e7-4107-9637-3af939221f36",
   "metadata": {},
   "outputs": [
    {
     "data": {
      "text/plain": [
       "array([[-0.11638732, -0.07889275],\n",
       "       [ 1.94277296,  1.89342606],\n",
       "       [-0.83261698, -0.9993082 ],\n",
       "       [-0.60879521, -0.60484444],\n",
       "       [-0.38497344, -0.21038067]])"
      ]
     },
     "execution_count": 9,
     "metadata": {},
     "output_type": "execute_result"
    }
   ],
   "source": [
    "data_standard = scaler_standardization.transform(data)\n",
    "data_standard"
   ]
  }
 ],
 "metadata": {
  "kernelspec": {
   "display_name": "Python 3 (ipykernel)",
   "language": "python",
   "name": "python3"
  },
  "language_info": {
   "codemirror_mode": {
    "name": "ipython",
    "version": 3
   },
   "file_extension": ".py",
   "mimetype": "text/x-python",
   "name": "python",
   "nbconvert_exporter": "python",
   "pygments_lexer": "ipython3",
   "version": "3.12.2"
  }
 },
 "nbformat": 4,
 "nbformat_minor": 5
}
